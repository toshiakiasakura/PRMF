{
 "cells": [
  {
   "cell_type": "markdown",
   "metadata": {},
   "source": [
    "# Support Vector Machine "
   ]
  },
  {
   "cell_type": "code",
   "execution_count": 4,
   "metadata": {},
   "outputs": [
    {
     "data": {
      "text/plain": [
       "<Figure size 432x288 with 0 Axes>"
      ]
     },
     "metadata": {},
     "output_type": "display_data"
    }
   ],
   "source": [
    "import pandas as pd\n",
    "import numpy as np\n",
    "import matplotlib.pyplot as plt\n",
    "%matplotlib inline\n",
    "plt.plot(1,1)\n",
    "plt.clf()\n",
    "import seaborn as sns\n",
    "sns.set(context=\"paper\" , style =\"whitegrid\",rc={\"figure.facecolor\":\"white\"})"
   ]
  },
  {
   "cell_type": "code",
   "execution_count": 2,
   "metadata": {},
   "outputs": [],
   "source": [
    "from scipy.optimize import minimize \n",
    "from scipy.stats import norm\n"
   ]
  },
  {
   "cell_type": "markdown",
   "metadata": {},
   "source": [
    "# version Soft margin \n",
    "Aim : two-value classification      \n",
    "$t \\in \\{-1,1\\}  $    \n",
    "data is $ X =\\{x_1,x_2, ...,x_n \\}$ and  $ t =\\{t_1,t_2, ...,t_n \\}$    \n",
    "Objective function(optimize a, maximize this function) : \n",
    "\\begin{equation}\n",
    "L(a) = \\sum_{n=1}^N a_n - \\frac{1}{2}\\sum_{n=1}^N \\sum_{m=1}^N a_n a_m t_n t_m k(x_n,x_m) \n",
    "\\end{equation}\n",
    "the kernel in this case, we use $ k(x_n,x_m)  = exp(-\\gamma ||x_n - x_m||) $ <br>\n",
    "Constraints : $ 0 ≤ a_n ≤ C $, $\\sum_{n=1}^N a_n t_n = 0$ \n",
    "\n",
    "we have to tune C and $\\gamma$"
   ]
  },
  {
   "cell_type": "markdown",
   "metadata": {},
   "source": [
    "## Generate data \n",
    "model1 : $ y = sin(x)+ 1 + \\epsilon, \\epsilon \\sim N(0,\\sigma^2) $  <br>\n",
    "model2 : $ y = sin(x) + \\epsilon, \\epsilon \\sim N(0,\\sigma^2) $ <br> "
   ]
  },
  {
   "cell_type": "code",
   "execution_count": 12,
   "metadata": {},
   "outputs": [
    {
     "data": {
      "text/plain": [
       "Text(0,0.5,'y')"
      ]
     },
     "execution_count": 12,
     "metadata": {},
     "output_type": "execute_result"
    },
    {
     "data": {
      "image/png": "[encoded data removed]",
      "text/plain": [
       "<Figure size 800x400 with 1 Axes>"
      ]
     },
     "metadata": {},
     "output_type": "display_data"
    }
   ],
   "source": [
    "np.random.seed(1230)\n",
    "nm = norm(scale = 0.5)\n",
    "\n",
    "\n",
    "x1 = np.linspace(0,5,15)\n",
    "y1 = np.sin(x1) +  1 +  nm.rvs(size = len(x1))\n",
    "x2 = np.linspace(0,5,15)\n",
    "y2 = np.sin(x2) + nm.rvs(size = len(x2))\n",
    "x = np.hstack((x1,x2))\n",
    "y = np.hstack((y1,y2))\n",
    "t = np.array([1 for i in range(len(x1))] + [-1 for i in range(len(x2))])\n",
    "c = [\"b\" for i in range(len(x1))] + [\"r\" for i in range(len(x2))]\n",
    "\n",
    "plt.figure(figsize=(8,4),dpi=100)\n",
    "plt.scatter(x,y,color=c,label=[\"data1\",\"data2\"])\n",
    "plt.legend()\n",
    "plt.title(\"generated data\")\n",
    "plt.xlabel(\"x\")\n",
    "plt.ylabel(\"y\")"
   ]
  },
  {
   "cell_type": "code",
   "execution_count": 22,
   "metadata": {},
   "outputs": [
    {
     "name": "stdout",
     "output_type": "stream",
     "text": [
      "[[ 0.          0.58792136]\n",
      " [ 0.35714286  0.65059507]\n",
      " [ 0.71428571  2.2589972 ]\n",
      " [ 1.07142857  2.18893163]\n",
      " [ 1.42857143  3.61438134]\n",
      " [ 1.78571429  2.56540189]\n",
      " [ 2.14285714  1.63760114]\n",
      " [ 2.5         2.11924754]\n",
      " [ 2.85714286  1.75131123]\n",
      " [ 3.21428571  1.16447881]\n",
      " [ 3.57142857  0.25268311]\n",
      " [ 3.92857143  0.44806573]\n",
      " [ 4.28571429 -0.82397943]\n",
      " [ 4.64285714 -0.30254881]\n",
      " [ 5.         -0.39698456]\n",
      " [ 0.         -0.47722782]\n",
      " [ 0.35714286  0.70627337]\n",
      " [ 0.71428571  0.83138323]\n",
      " [ 1.07142857  1.06416043]\n",
      " [ 1.42857143  1.2261952 ]\n",
      " [ 1.78571429  1.95625809]\n",
      " [ 2.14285714  1.15018027]\n",
      " [ 2.5         0.64314441]\n",
      " [ 2.85714286 -0.20412688]\n",
      " [ 3.21428571 -0.37272828]\n",
      " [ 3.57142857 -0.74467096]\n",
      " [ 3.92857143 -0.92585504]\n",
      " [ 4.28571429 -1.06192697]\n",
      " [ 4.64285714 -1.52131693]\n",
      " [ 5.         -0.73024455]]\n"
     ]
    }
   ],
   "source": [
    "d = np.hstack((x,y)).reshape(-1,2,order=\"F\")\n",
    "#print(np.hstack((x,y)))\n",
    "#print(np.hstack((x,y)).reshape(-1,2,order=\"C\"))\n",
    "#print(d)\n",
    "#for dd in d:\n",
    "#    plt.scatter(dd[0],dd[1],color = \"b\")\n",
    "print(d)"
   ]
  },
  {
   "cell_type": "markdown",
   "metadata": {},
   "source": [
    "## Support Vector Machine "
   ]
  },
  {
   "cell_type": "code",
   "execution_count": 38,
   "metadata": {
    "scrolled": true
   },
   "outputs": [
    {
     "name": "stdout",
     "output_type": "stream",
     "text": [
      "50 -18.598378873101453\n",
      "100 -41.12157198743553\n",
      "150 -85.03614759717502\n",
      "200 -133.94950354399307\n",
      "250 -142.05227246821704\n",
      "300 -146.73898134944577\n",
      "350 -147.52583451300558\n",
      "400 -148.81438159878243\n",
      "450 -149.13703005185866\n",
      "500 -149.3011587755518\n",
      "550 -149.54408789182932\n",
      "600 -149.77120764156993\n",
      "650 -150.08611825905132\n",
      "700 -150.10970833525175\n",
      "750 -150.12041093707603\n",
      "800 -150.12093584620112\n",
      "     fun: -150.12097544604904\n",
      "     jac: array([ 0.1046257 , -0.86158752,  0.81269836,  0.1050415 ,  0.33618164,\n",
      "        0.10482788, -0.90225983,  0.36440277,  0.72438049,  0.62184143,\n",
      "        0.2002182 ,  1.36608887, -1.11762238,  0.90054703,  0.10409546,\n",
      "       -0.10443497, -1.19593048, -0.10426712,  0.60689163,  0.75084686,\n",
      "       -1.14199448, -0.10361481, -0.04944229,  0.57665634,  0.12698746,\n",
      "        0.12387466, -0.10393524, -0.06514359,  1.05728531, -0.76575851])\n",
      " message: 'Optimization terminated successfully.'\n",
      "    nfev: 833\n",
      "     nit: 26\n",
      "    njev: 26\n",
      "  status: 0\n",
      " success: True\n",
      "       x: array([6.20220436e+00, 2.00000000e+01, 0.00000000e+00, 8.22626515e+00,\n",
      "       0.00000000e+00, 2.52602618e+00, 2.00000000e+01, 0.00000000e+00,\n",
      "       0.00000000e+00, 0.00000000e+00, 0.00000000e+00, 0.00000000e+00,\n",
      "       2.00000000e+01, 0.00000000e+00, 1.33217879e+01, 3.52987354e+00,\n",
      "       2.00000000e+01, 4.37263421e+00, 0.00000000e+00, 0.00000000e+00,\n",
      "       2.00000000e+01, 7.47618639e+00, 0.00000000e+00, 3.20557925e-15,\n",
      "       0.00000000e+00, 0.00000000e+00, 1.48975894e+01, 0.00000000e+00,\n",
      "       0.00000000e+00, 2.00000000e+01])\n",
      "-------- estimated parameters ---------\n",
      "[ 6.2  20.    0.    8.23  0.    2.53 20.    0.    0.    0.    0.    0.\n",
      " 20.    0.   13.32  3.53 20.    4.37  0.    0.   20.    7.48  0.    0.\n",
      "  0.    0.   14.9   0.    0.   20.  ]\n"
     ]
    }
   ],
   "source": [
    "# hypter parameters\n",
    "gamma = 0.45\n",
    "C =20 \n",
    "\n",
    "\n",
    "\n",
    "def kernel(x1,x2,gamma=gamma):\n",
    "    return(np.exp(-gamma*np.sum((x1-x2)**2)))\n",
    "\n",
    "global ind \n",
    "ind = 0\n",
    "def likelihood(p,d,t):\n",
    "    \n",
    "    l = 0\n",
    "    l += np.sum(p)\n",
    "    N = len(d)\n",
    "    for n in range(N):\n",
    "        for m in range(N):\n",
    "            l -= 1/2*p[n]*p[m]*t[n]*t[m]*kernel(d[n],d[m])\n",
    "    global ind\n",
    "    ind += 1 \n",
    "    if ind % 50 == 0:\n",
    "        print(ind,-l)\n",
    "    return(-l)\n",
    "\n",
    "def cons(p):\n",
    "    v = np.sum(p*t)\n",
    "    return( v)\n",
    "\n",
    "\n",
    "# constrain option\n",
    "arg = (d,t)\n",
    "N = len(d)\n",
    "x0 = [0.2 for i in range(N)]\n",
    "bounds = ((0,C),)*N\n",
    "constraints = ({ \"type\":\"eq\", \"fun\":cons})\n",
    "\n",
    "result = minimize(fun=likelihood,\n",
    "                 x0 =x0,\n",
    "                 constraints=constraints,\n",
    "                 bounds = bounds,\n",
    "                 args=(d,t),\n",
    "                 method=\"SLSQP\")\n",
    "print(result)\n"
   ]
  },
  {
   "cell_type": "code",
   "execution_count": 43,
   "metadata": {},
   "outputs": [
    {
     "name": "stdout",
     "output_type": "stream",
     "text": [
      "-------- estimated parameters ---------\n",
      "[ 6.2  20.    0.    8.23  0.    2.53 20.    0.    0.    0.    0.    0.\n",
      " 20.    0.   13.32  3.53 20.    4.37  0.    0.   20.    7.48  0.    0.\n",
      "  0.    0.   14.9   0.    0.   20.  ]\n"
     ]
    }
   ],
   "source": [
    "print(\"-------- estimated parameters ---------\")\n",
    "print(np.round(result.x,2))\n",
    "result.x = np.round(result.x,2)"
   ]
  },
  {
   "cell_type": "markdown",
   "metadata": {},
   "source": [
    "## interpretation of results\n",
    "if a > 0 , that is support vectors    \n",
    "if 0 < a < C , that is support vectors on the margin    \n",
    "if a =C , support vectors within margin     \n",
    "b is calculated as     \n",
    "$ b = \\frac{1}{N_M}\\sum_{n\\in M } (t_n - \\sum_{m \\in S}a_m t_m k(x_n,x_m)) $ <br>\n",
    "where, S is support vector , M is a vector which meets 0 < a < C. <br> \n",
    "Prediction is done by   \n",
    "$ y(x) = \\sum_{n=1}^N a_nt_n k(x,x_n) + b$ <br> "
   ]
  },
  {
   "cell_type": "code",
   "execution_count": 44,
   "metadata": {},
   "outputs": [
    {
     "name": "stdout",
     "output_type": "stream",
     "text": [
      "-0.19871833756823828\n",
      "support vectors : [ 0  1  3  5  6 12 14 15 16 17 20 21 26 29]\n",
      "support vectors within margin :  [ 0  3  5 14 15 17 21 26]\n"
     ]
    }
   ],
   "source": [
    "a = result.x \n",
    "NM = len(a > 0)\n",
    "M_ind = np.where(a >0)[0]\n",
    "S_ind = np.where( (a < C - 0.001) & (a > 0) )[0]\n",
    "b= 0 \n",
    "for n in M_ind:\n",
    "    b += t[n]\n",
    "    for m in S_ind:\n",
    "        b -= a[m]*t[m]*kernel(d[n],d[m])\n",
    "b = b/NM\n",
    "print(b)\n",
    "print(\"support vectors :\",M_ind)\n",
    "print(\"support vectors within margin : \",S_ind)"
   ]
  },
  {
   "cell_type": "code",
   "execution_count": 46,
   "metadata": {
    "scrolled": true
   },
   "outputs": [
    {
     "data": {
      "text/plain": [
       "-0.12326762353455518"
      ]
     },
     "execution_count": 46,
     "metadata": {},
     "output_type": "execute_result"
    }
   ],
   "source": [
    "def predY(x_,a,d,t,b):\n",
    "    y_ = 0\n",
    "    for i in range(len(d)):\n",
    "        y_ += a[i]*t[i]*kernel(x_,d[i]) \n",
    "    y_ += b \n",
    "    return(y_)\n",
    "predY([0,0],a,d,t,b)"
   ]
  },
  {
   "cell_type": "code",
   "execution_count": 47,
   "metadata": {},
   "outputs": [],
   "source": [
    "x = np.linspace(0,5,20)\n",
    "y = np.linspace(-1.5,4,20)\n",
    "xx,yy = np.meshgrid(x,y)\n",
    "\n",
    "zz = np.ndarray(shape=(len(xx),len(yy)))\n",
    "for i in range(len(x)):\n",
    "    for j in range(len(y)):\n",
    "        zz[i,j] = predY([xx[i,j],yy[i,j]],a,d,t,b)"
   ]
  },
  {
   "cell_type": "code",
   "execution_count": 48,
   "metadata": {},
   "outputs": [
    {
     "data": {
      "text/plain": [
       "<matplotlib.colorbar.Colorbar at 0x10bdca358>"
      ]
     },
     "execution_count": 48,
     "metadata": {},
     "output_type": "execute_result"
    },
    {
     "data": {
      "image/png": "[encoded data removed]",
      "text/plain": [
       "<Figure size 800x400 with 2 Axes>"
      ]
     },
     "metadata": {},
     "output_type": "display_data"
    }
   ],
   "source": [
    "plt.figure(figsize=(8,4),dpi=100)\n",
    "plt.plot(d.T[0][M_ind],d.T[1][M_ind],alpha = 0.9,marker=\"o\",color = \"none\",\n",
    "            markeredgewidth=1,markersize=10,markeredgecolor=\"blue\")\n",
    "\n",
    "cont = plt.contour(xx,yy,zz,levels=[-1,0,1],alpha = 1,cmap=\"viridis\")\n",
    "cont.clabel(fmt=\"%1.1f\")\n",
    "plt.scatter(d.T[0],d.T[1],c = t, cmap=\"viridis\")\n",
    "plt.colorbar()\n"
   ]
  },
  {
   "cell_type": "code",
   "execution_count": null,
   "metadata": {},
   "outputs": [],
   "source": []
  },
  {
   "cell_type": "code",
   "execution_count": null,
   "metadata": {},
   "outputs": [],
   "source": []
  },
  {
   "cell_type": "code",
   "execution_count": null,
   "metadata": {},
   "outputs": [],
   "source": []
  },
  {
   "cell_type": "code",
   "execution_count": null,
   "metadata": {},
   "outputs": [],
   "source": []
  },
  {
   "cell_type": "code",
   "execution_count": null,
   "metadata": {},
   "outputs": [],
   "source": []
  },
  {
   "cell_type": "code",
   "execution_count": null,
   "metadata": {},
   "outputs": [],
   "source": []
  }
 ],
 "metadata": {
  "kernelspec": {
   "display_name": "Python 3",
   "language": "python",
   "name": "python3"
  },
  "language_info": {
   "codemirror_mode": {
    "name": "ipython",
    "version": 3
   },
   "file_extension": ".py",
   "mimetype": "text/x-python",
   "name": "python",
   "nbconvert_exporter": "python",
   "pygments_lexer": "ipython3",
   "version": "3.7.2"
  },
  "varInspector": {
   "cols": {
    "lenName": 16,
    "lenType": 16,
    "lenVar": 40
   },
   "kernels_config": {
    "python": {
     "delete_cmd_postfix": "",
     "delete_cmd_prefix": "del ",
     "library": "var_list.py",
     "varRefreshCmd": "print(var_dic_list())"
    },
    "r": {
     "delete_cmd_postfix": ") ",
     "delete_cmd_prefix": "rm(",
     "library": "var_list.r",
     "varRefreshCmd": "cat(var_dic_list()) "
    }
   },
   "types_to_exclude": [
    "module",
    "function",
    "builtin_function_or_method",
    "instance",
    "_Feature"
   ],
   "window_display": false
  }
 },
 "nbformat": 4,
 "nbformat_minor": 2
}
